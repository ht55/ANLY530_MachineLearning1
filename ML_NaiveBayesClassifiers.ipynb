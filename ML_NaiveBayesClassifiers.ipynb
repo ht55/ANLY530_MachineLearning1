{
 "cells": [
  {
   "cell_type": "markdown",
   "metadata": {},
   "source": [
    "## Laboratory 2: Naïve Bayes Classifiers, Part 1"
   ]
  },
  {
   "cell_type": "markdown",
   "metadata": {},
   "source": [
    "### Step 1: Exploring and Preparing the Data"
   ]
  },
  {
   "cell_type": "code",
   "execution_count": 3,
   "metadata": {},
   "outputs": [
    {
     "data": {
      "text/html": [
       "<div>\n",
       "<style scoped>\n",
       "    .dataframe tbody tr th:only-of-type {\n",
       "        vertical-align: middle;\n",
       "    }\n",
       "\n",
       "    .dataframe tbody tr th {\n",
       "        vertical-align: top;\n",
       "    }\n",
       "\n",
       "    .dataframe thead th {\n",
       "        text-align: right;\n",
       "    }\n",
       "</style>\n",
       "<table border=\"1\" class=\"dataframe\">\n",
       "  <thead>\n",
       "    <tr style=\"text-align: right;\">\n",
       "      <th></th>\n",
       "      <th>Creditability</th>\n",
       "      <th>Account Balance</th>\n",
       "      <th>Duration of Credit (month)</th>\n",
       "      <th>Payment Status of Previous Credit</th>\n",
       "      <th>Purpose</th>\n",
       "      <th>Credit Amount</th>\n",
       "      <th>Value Savings/Stocks</th>\n",
       "      <th>Length of current employment</th>\n",
       "      <th>Instalment per cent</th>\n",
       "      <th>Sex &amp; Marital Status</th>\n",
       "      <th>...</th>\n",
       "      <th>Duration in Current address</th>\n",
       "      <th>Most valuable available asset</th>\n",
       "      <th>Age (years)</th>\n",
       "      <th>Concurrent Credits</th>\n",
       "      <th>Type of apartment</th>\n",
       "      <th>No of Credits at this Bank</th>\n",
       "      <th>Occupation</th>\n",
       "      <th>No of dependents</th>\n",
       "      <th>Telephone</th>\n",
       "      <th>Foreign Worker</th>\n",
       "    </tr>\n",
       "  </thead>\n",
       "  <tbody>\n",
       "    <tr>\n",
       "      <td>0</td>\n",
       "      <td>1</td>\n",
       "      <td>1</td>\n",
       "      <td>18</td>\n",
       "      <td>4</td>\n",
       "      <td>2</td>\n",
       "      <td>1049</td>\n",
       "      <td>1</td>\n",
       "      <td>2</td>\n",
       "      <td>4</td>\n",
       "      <td>2</td>\n",
       "      <td>...</td>\n",
       "      <td>4</td>\n",
       "      <td>2</td>\n",
       "      <td>21</td>\n",
       "      <td>3</td>\n",
       "      <td>1</td>\n",
       "      <td>1</td>\n",
       "      <td>3</td>\n",
       "      <td>1</td>\n",
       "      <td>1</td>\n",
       "      <td>1</td>\n",
       "    </tr>\n",
       "    <tr>\n",
       "      <td>1</td>\n",
       "      <td>1</td>\n",
       "      <td>1</td>\n",
       "      <td>9</td>\n",
       "      <td>4</td>\n",
       "      <td>0</td>\n",
       "      <td>2799</td>\n",
       "      <td>1</td>\n",
       "      <td>3</td>\n",
       "      <td>2</td>\n",
       "      <td>3</td>\n",
       "      <td>...</td>\n",
       "      <td>2</td>\n",
       "      <td>1</td>\n",
       "      <td>36</td>\n",
       "      <td>3</td>\n",
       "      <td>1</td>\n",
       "      <td>2</td>\n",
       "      <td>3</td>\n",
       "      <td>2</td>\n",
       "      <td>1</td>\n",
       "      <td>1</td>\n",
       "    </tr>\n",
       "    <tr>\n",
       "      <td>2</td>\n",
       "      <td>1</td>\n",
       "      <td>2</td>\n",
       "      <td>12</td>\n",
       "      <td>2</td>\n",
       "      <td>9</td>\n",
       "      <td>841</td>\n",
       "      <td>2</td>\n",
       "      <td>4</td>\n",
       "      <td>2</td>\n",
       "      <td>2</td>\n",
       "      <td>...</td>\n",
       "      <td>4</td>\n",
       "      <td>1</td>\n",
       "      <td>23</td>\n",
       "      <td>3</td>\n",
       "      <td>1</td>\n",
       "      <td>1</td>\n",
       "      <td>2</td>\n",
       "      <td>1</td>\n",
       "      <td>1</td>\n",
       "      <td>1</td>\n",
       "    </tr>\n",
       "    <tr>\n",
       "      <td>3</td>\n",
       "      <td>1</td>\n",
       "      <td>1</td>\n",
       "      <td>12</td>\n",
       "      <td>4</td>\n",
       "      <td>0</td>\n",
       "      <td>2122</td>\n",
       "      <td>1</td>\n",
       "      <td>3</td>\n",
       "      <td>3</td>\n",
       "      <td>3</td>\n",
       "      <td>...</td>\n",
       "      <td>2</td>\n",
       "      <td>1</td>\n",
       "      <td>39</td>\n",
       "      <td>3</td>\n",
       "      <td>1</td>\n",
       "      <td>2</td>\n",
       "      <td>2</td>\n",
       "      <td>2</td>\n",
       "      <td>1</td>\n",
       "      <td>2</td>\n",
       "    </tr>\n",
       "    <tr>\n",
       "      <td>4</td>\n",
       "      <td>1</td>\n",
       "      <td>1</td>\n",
       "      <td>12</td>\n",
       "      <td>4</td>\n",
       "      <td>0</td>\n",
       "      <td>2171</td>\n",
       "      <td>1</td>\n",
       "      <td>3</td>\n",
       "      <td>4</td>\n",
       "      <td>3</td>\n",
       "      <td>...</td>\n",
       "      <td>4</td>\n",
       "      <td>2</td>\n",
       "      <td>38</td>\n",
       "      <td>1</td>\n",
       "      <td>2</td>\n",
       "      <td>2</td>\n",
       "      <td>2</td>\n",
       "      <td>1</td>\n",
       "      <td>1</td>\n",
       "      <td>2</td>\n",
       "    </tr>\n",
       "  </tbody>\n",
       "</table>\n",
       "<p>5 rows × 21 columns</p>\n",
       "</div>"
      ],
      "text/plain": [
       "   Creditability  Account Balance  Duration of Credit (month)  \\\n",
       "0              1                1                          18   \n",
       "1              1                1                           9   \n",
       "2              1                2                          12   \n",
       "3              1                1                          12   \n",
       "4              1                1                          12   \n",
       "\n",
       "   Payment Status of Previous Credit  Purpose  Credit Amount  \\\n",
       "0                                  4        2           1049   \n",
       "1                                  4        0           2799   \n",
       "2                                  2        9            841   \n",
       "3                                  4        0           2122   \n",
       "4                                  4        0           2171   \n",
       "\n",
       "   Value Savings/Stocks  Length of current employment  Instalment per cent  \\\n",
       "0                     1                             2                    4   \n",
       "1                     1                             3                    2   \n",
       "2                     2                             4                    2   \n",
       "3                     1                             3                    3   \n",
       "4                     1                             3                    4   \n",
       "\n",
       "   Sex & Marital Status  ...  Duration in Current address  \\\n",
       "0                     2  ...                            4   \n",
       "1                     3  ...                            2   \n",
       "2                     2  ...                            4   \n",
       "3                     3  ...                            2   \n",
       "4                     3  ...                            4   \n",
       "\n",
       "   Most valuable available asset  Age (years)  Concurrent Credits  \\\n",
       "0                              2           21                   3   \n",
       "1                              1           36                   3   \n",
       "2                              1           23                   3   \n",
       "3                              1           39                   3   \n",
       "4                              2           38                   1   \n",
       "\n",
       "   Type of apartment  No of Credits at this Bank  Occupation  \\\n",
       "0                  1                           1           3   \n",
       "1                  1                           2           3   \n",
       "2                  1                           1           2   \n",
       "3                  1                           2           2   \n",
       "4                  2                           2           2   \n",
       "\n",
       "   No of dependents  Telephone  Foreign Worker  \n",
       "0                 1          1               1  \n",
       "1                 2          1               1  \n",
       "2                 1          1               1  \n",
       "3                 2          1               2  \n",
       "4                 1          1               2  \n",
       "\n",
       "[5 rows x 21 columns]"
      ]
     },
     "execution_count": 3,
     "metadata": {},
     "output_type": "execute_result"
    }
   ],
   "source": [
    "import pandas as pd \n",
    "input_file = \"/Users/hit028/Desktop/530/Lab2/creditData.csv\" \n",
    "credit = pd.read_csv(input_file)\n",
    "credit.head(5)"
   ]
  },
  {
   "cell_type": "code",
   "execution_count": 4,
   "metadata": {},
   "outputs": [
    {
     "data": {
      "text/plain": [
       "Creditability                        0\n",
       "Account Balance                      0\n",
       "Duration of Credit (month)           0\n",
       "Payment Status of Previous Credit    0\n",
       "Purpose                              0\n",
       "Credit Amount                        0\n",
       "Value Savings/Stocks                 0\n",
       "Length of current employment         0\n",
       "Instalment per cent                  0\n",
       "Sex & Marital Status                 0\n",
       "Guarantors                           0\n",
       "Duration in Current address          0\n",
       "Most valuable available asset        0\n",
       "Age (years)                          0\n",
       "Concurrent Credits                   0\n",
       "Type of apartment                    0\n",
       "No of Credits at this Bank           0\n",
       "Occupation                           0\n",
       "No of dependents                     0\n",
       "Telephone                            0\n",
       "Foreign Worker                       0\n",
       "dtype: int64"
      ]
     },
     "execution_count": 4,
     "metadata": {},
     "output_type": "execute_result"
    }
   ],
   "source": [
    "credit.isnull().sum()"
   ]
  },
  {
   "cell_type": "markdown",
   "metadata": {},
   "source": [
    "Q1- What is your suggestion if you see any NA values?\n",
    "\n",
    "Answer: Depending on cases, we can eithr impute or drop the missing values."
   ]
  },
  {
   "cell_type": "markdown",
   "metadata": {},
   "source": [
    "Next, use a 75%/25% split for training and test data, i.e. use 75% of the records for the training set and 25% of the records for the test set. Report the number of missing values you find in the data in your results report. Use the randomization seed of 123."
   ]
  },
  {
   "cell_type": "code",
   "execution_count": 7,
   "metadata": {},
   "outputs": [
    {
     "data": {
      "text/plain": [
       "1    700\n",
       "0    300\n",
       "Name: Creditability, dtype: int64"
      ]
     },
     "execution_count": 7,
     "metadata": {},
     "output_type": "execute_result"
    }
   ],
   "source": [
    "target = credit['Creditability']\n",
    "target.value_counts()"
   ]
  },
  {
   "cell_type": "code",
   "execution_count": 8,
   "metadata": {},
   "outputs": [],
   "source": [
    "import random\n",
    "random.seed(123)\n",
    "indx = random.sample(range(0, 1000), 1000)\n",
    "credit_rand = credit.iloc[indx]\n",
    "target_rand = target.iloc[indx]"
   ]
  },
  {
   "cell_type": "code",
   "execution_count": 9,
   "metadata": {},
   "outputs": [],
   "source": [
    "credit_train = credit_rand.iloc[0:75]\n",
    "credit_test = credit_rand.iloc[750:1000]\n",
    "target_train = target_rand.iloc[0:750]\n",
    "target_test = target_rand.iloc[750:1000]"
   ]
  },
  {
   "cell_type": "code",
   "execution_count": 10,
   "metadata": {},
   "outputs": [
    {
     "data": {
      "text/plain": [
       "1    0.692\n",
       "0    0.308\n",
       "Name: Creditability, dtype: float64"
      ]
     },
     "execution_count": 10,
     "metadata": {},
     "output_type": "execute_result"
    }
   ],
   "source": [
    "target_train.value_counts()/750"
   ]
  },
  {
   "cell_type": "code",
   "execution_count": 11,
   "metadata": {},
   "outputs": [
    {
     "data": {
      "text/plain": [
       "1    0.724\n",
       "0    0.276\n",
       "Name: Creditability, dtype: float64"
      ]
     },
     "execution_count": 11,
     "metadata": {},
     "output_type": "execute_result"
    }
   ],
   "source": [
    "target_test.value_counts()/250"
   ]
  },
  {
   "cell_type": "code",
   "execution_count": 12,
   "metadata": {},
   "outputs": [],
   "source": [
    "from sklearn.model_selection import train_test_split\n",
    "y = target\n",
    "X = credit.drop(['Creditability'], axis=1)"
   ]
  },
  {
   "cell_type": "markdown",
   "metadata": {},
   "source": [
    "Check the percentage of targets for both training and testing."
   ]
  },
  {
   "cell_type": "code",
   "execution_count": 14,
   "metadata": {},
   "outputs": [],
   "source": [
    "X_train, X_test, y_train, y_test = train_test_split(X, y, test_size=0.25, random_state=123)"
   ]
  },
  {
   "cell_type": "code",
   "execution_count": 15,
   "metadata": {},
   "outputs": [
    {
     "data": {
      "text/plain": [
       "1    0.713333\n",
       "0    0.286667\n",
       "Name: Creditability, dtype: float64"
      ]
     },
     "execution_count": 15,
     "metadata": {},
     "output_type": "execute_result"
    }
   ],
   "source": [
    "y_train.value_counts()/y_train.shape"
   ]
  },
  {
   "cell_type": "markdown",
   "metadata": {},
   "source": [
    "Q2- Compute the percentage of both classes similar to what you did in lab 1 and see if the distribution of both classes preserved for both training and testing data.\n",
    "\n",
    "Line[12] & Line[20]"
   ]
  },
  {
   "cell_type": "markdown",
   "metadata": {},
   "source": [
    "### Step 2: Training a Model on the Data"
   ]
  },
  {
   "cell_type": "markdown",
   "metadata": {},
   "source": [
    "Use the GaussianNB()function on your training data to build the Naïve Bayes Classifier."
   ]
  },
  {
   "cell_type": "code",
   "execution_count": 19,
   "metadata": {},
   "outputs": [],
   "source": [
    "from sklearn.naive_bayes import GaussianNB \n",
    "from sklearn.metrics import accuracy_score\n",
    "gnb = GaussianNB() \n",
    "gnb = gnb.fit(X_train, y_train)\n",
    "y_predict = gnb.predict(X_test)"
   ]
  },
  {
   "cell_type": "markdown",
   "metadata": {},
   "source": [
    "### Step 3: Evaluating Model Performance"
   ]
  },
  {
   "cell_type": "markdown",
   "metadata": {},
   "source": [
    "Now, use the processes we have completed before to evaluate your Naïve Bayes Classifier. (Hint: If you didn’t convert your class variable before you will not be able to complete this step!) In your results report include your confusion table showing your results. Be sure to include 2-3 sentences explaining what those results actually mean."
   ]
  },
  {
   "cell_type": "code",
   "execution_count": 22,
   "metadata": {},
   "outputs": [
    {
     "data": {
      "text/plain": [
       "76.4"
      ]
     },
     "execution_count": 22,
     "metadata": {},
     "output_type": "execute_result"
    }
   ],
   "source": [
    "accuracy_score(y_test, y_predict)*100"
   ]
  },
  {
   "cell_type": "markdown",
   "metadata": {},
   "source": [
    "## Laboratory 2: Naïve Bayes Classifiers, Part 2"
   ]
  },
  {
   "cell_type": "markdown",
   "metadata": {},
   "source": [
    "### Step 1: Exploring and Preparing the Data"
   ]
  },
  {
   "cell_type": "code",
   "execution_count": 70,
   "metadata": {},
   "outputs": [
    {
     "data": {
      "text/plain": [
       "[Text(0, 0, 'Account Balance'),\n",
       " Text(0, 0, 'Duration of Credit (month)'),\n",
       " Text(0, 0, 'Payment Status of Previous Credit'),\n",
       " Text(0, 0, 'Purpose'),\n",
       " Text(0, 0, 'Credit Amount'),\n",
       " Text(0, 0, 'Value Savings/Stocks'),\n",
       " Text(0, 0, 'Length of current employment'),\n",
       " Text(0, 0, 'Instalment per cent'),\n",
       " Text(0, 0, 'Sex & Marital Status'),\n",
       " Text(0, 0, 'Guarantors'),\n",
       " Text(0, 0, 'Duration in Current address'),\n",
       " Text(0, 0, 'Most valuable available asset'),\n",
       " Text(0, 0, 'Age (years)'),\n",
       " Text(0, 0, 'Concurrent Credits'),\n",
       " Text(0, 0, 'Type of apartment'),\n",
       " Text(0, 0, 'No of Credits at this Bank'),\n",
       " Text(0, 0, 'Occupation'),\n",
       " Text(0, 0, 'No of dependents'),\n",
       " Text(0, 0, 'Telephone'),\n",
       " Text(0, 0, 'Foreign Worker')]"
      ]
     },
     "execution_count": 70,
     "metadata": {},
     "output_type": "execute_result"
    },
    {
     "data": {
      "image/png": "[encoded data removed]",
      "text/plain": [
       "<Figure size 432x288 with 2 Axes>"
      ]
     },
     "metadata": {
      "needs_background": "light"
     },
     "output_type": "display_data"
    }
   ],
   "source": [
    "import matplotlib.pyplot as plt\n",
    "import numpy as np\n",
    "\n",
    "corr = X_train.corr()\n",
    "fig = plt.figure()\n",
    "ax = fig.add_subplot(111)\n",
    "cax = ax.matshow(corr,cmap='coolwarm', vmin=-1, vmax=1) \n",
    "fig.colorbar(cax)\n",
    "ticks = np.arange(0,len(X_train.columns),1) \n",
    "ax.set_xticks(ticks)\n",
    "plt.xticks(rotation = 90) \n",
    "ax.set_yticks(ticks) \n",
    "ax.set_xticklabels(X_train.columns) \n",
    "ax.set_yticklabels(X_train.columns) "
   ]
  },
  {
   "cell_type": "code",
   "execution_count": 71,
   "metadata": {},
   "outputs": [],
   "source": [
    "plt.show()"
   ]
  },
  {
   "cell_type": "code",
   "execution_count": null,
   "metadata": {},
   "outputs": [],
   "source": [
    "# print the variable corr to see actual value of correlations\n",
    "print(corr)"
   ]
  },
  {
   "cell_type": "code",
   "execution_count": null,
   "metadata": {},
   "outputs": [],
   "source": [
    "# Remove the features that have correlation over 0.6.\n",
    "# Create correlation matrix \n",
    "corr_matrix = X.corr().abs()"
   ]
  },
  {
   "cell_type": "code",
   "execution_count": null,
   "metadata": {},
   "outputs": [],
   "source": [
    "# Select upper triangle of correlation matrix\n",
    "upper = corr_matrix.where(np.triu(np.ones(corr_matrix.shape), k=1).astype(np.bool))"
   ]
  },
  {
   "cell_type": "code",
   "execution_count": null,
   "metadata": {},
   "outputs": [],
   "source": [
    "# Find index of feature columns with correlation greater than 0.60\n",
    "to_drop = [column for column in upper.columns if any(upper[column] > 0.6)]"
   ]
  },
  {
   "cell_type": "code",
   "execution_count": null,
   "metadata": {},
   "outputs": [],
   "source": [
    "Xnew = X.drop(to_drop, axis=1)"
   ]
  },
  {
   "cell_type": "markdown",
   "metadata": {},
   "source": [
    "#### Split your data in the similar way that you did in previous section."
   ]
  },
  {
   "cell_type": "code",
   "execution_count": 33,
   "metadata": {},
   "outputs": [
    {
     "data": {
      "text/plain": [
       "1    0.724\n",
       "0    0.276\n",
       "Name: Creditability, dtype: float64"
      ]
     },
     "execution_count": 33,
     "metadata": {},
     "output_type": "execute_result"
    }
   ],
   "source": [
    "from sklearn.model_selection import train_test_split\n",
    "\n",
    "target_train.value_counts()/750\n",
    "target_test.value_counts()/250"
   ]
  },
  {
   "cell_type": "markdown",
   "metadata": {},
   "source": [
    "### Step 2: Training a Model on the Data At this point we follow the same process that we have before. To train the model"
   ]
  },
  {
   "cell_type": "code",
   "execution_count": 35,
   "metadata": {},
   "outputs": [],
   "source": [
    "from sklearn.model_selection import train_test_split\n",
    "from sklearn.naive_bayes import GaussianNB \n",
    "from sklearn.metrics import accuracy_score\n",
    "\n",
    "Xnew_train, Xnew_test, y_train, y_test = train_test_split(Xnew, y, test_size=0.25, random_state=123)\n",
    "\n",
    "gnb2 = GaussianNB() \n",
    "gnb2 = gnb.fit(Xnew_train, y_train)\n",
    "y_predict2 = gnb.predict(Xnew_test)"
   ]
  },
  {
   "cell_type": "markdown",
   "metadata": {},
   "source": [
    "### Step 3: Evaluating Model Performance."
   ]
  },
  {
   "cell_type": "code",
   "execution_count": 37,
   "metadata": {},
   "outputs": [
    {
     "data": {
      "text/plain": [
       "77.2"
      ]
     },
     "execution_count": 37,
     "metadata": {},
     "output_type": "execute_result"
    }
   ],
   "source": [
    "accuracy_score(y_test, y_predict2)*100"
   ]
  },
  {
   "cell_type": "markdown",
   "metadata": {},
   "source": [
    "Q3- What is the accuracy this time? Be sure to include in your results report whether or not, after all this work, the performance of your Naïve Bayes Classifier was improved.\n",
    "\n",
    "Answer: 77.2%"
   ]
  },
  {
   "cell_type": "markdown",
   "metadata": {},
   "source": [
    "## Laboratory 2: Support Vector Machine, Part 3"
   ]
  },
  {
   "cell_type": "markdown",
   "metadata": {},
   "source": [
    "### Step 1: Collecting the Data"
   ]
  },
  {
   "cell_type": "code",
   "execution_count": 41,
   "metadata": {},
   "outputs": [
    {
     "data": {
      "text/html": [
       "<div>\n",
       "<style scoped>\n",
       "    .dataframe tbody tr th:only-of-type {\n",
       "        vertical-align: middle;\n",
       "    }\n",
       "\n",
       "    .dataframe tbody tr th {\n",
       "        vertical-align: top;\n",
       "    }\n",
       "\n",
       "    .dataframe thead th {\n",
       "        text-align: right;\n",
       "    }\n",
       "</style>\n",
       "<table border=\"1\" class=\"dataframe\">\n",
       "  <thead>\n",
       "    <tr style=\"text-align: right;\">\n",
       "      <th></th>\n",
       "      <th>letter</th>\n",
       "      <th>xbox</th>\n",
       "      <th>ybox</th>\n",
       "      <th>width</th>\n",
       "      <th>height</th>\n",
       "      <th>onpix</th>\n",
       "      <th>xbar</th>\n",
       "      <th>ybar</th>\n",
       "      <th>x2bar</th>\n",
       "      <th>y2bar</th>\n",
       "      <th>xybar</th>\n",
       "      <th>x2ybar</th>\n",
       "      <th>xy2bar</th>\n",
       "      <th>xedge</th>\n",
       "      <th>xedgey</th>\n",
       "      <th>yedge</th>\n",
       "      <th>yedgex</th>\n",
       "    </tr>\n",
       "  </thead>\n",
       "  <tbody>\n",
       "    <tr>\n",
       "      <td>0</td>\n",
       "      <td>T</td>\n",
       "      <td>2</td>\n",
       "      <td>8</td>\n",
       "      <td>3</td>\n",
       "      <td>5</td>\n",
       "      <td>1</td>\n",
       "      <td>8</td>\n",
       "      <td>13</td>\n",
       "      <td>0</td>\n",
       "      <td>6</td>\n",
       "      <td>6</td>\n",
       "      <td>10</td>\n",
       "      <td>8</td>\n",
       "      <td>0</td>\n",
       "      <td>8</td>\n",
       "      <td>0</td>\n",
       "      <td>8</td>\n",
       "    </tr>\n",
       "    <tr>\n",
       "      <td>1</td>\n",
       "      <td>I</td>\n",
       "      <td>5</td>\n",
       "      <td>12</td>\n",
       "      <td>3</td>\n",
       "      <td>7</td>\n",
       "      <td>2</td>\n",
       "      <td>10</td>\n",
       "      <td>5</td>\n",
       "      <td>5</td>\n",
       "      <td>4</td>\n",
       "      <td>13</td>\n",
       "      <td>3</td>\n",
       "      <td>9</td>\n",
       "      <td>2</td>\n",
       "      <td>8</td>\n",
       "      <td>4</td>\n",
       "      <td>10</td>\n",
       "    </tr>\n",
       "    <tr>\n",
       "      <td>2</td>\n",
       "      <td>D</td>\n",
       "      <td>4</td>\n",
       "      <td>11</td>\n",
       "      <td>6</td>\n",
       "      <td>8</td>\n",
       "      <td>6</td>\n",
       "      <td>10</td>\n",
       "      <td>6</td>\n",
       "      <td>2</td>\n",
       "      <td>6</td>\n",
       "      <td>10</td>\n",
       "      <td>3</td>\n",
       "      <td>7</td>\n",
       "      <td>3</td>\n",
       "      <td>7</td>\n",
       "      <td>3</td>\n",
       "      <td>9</td>\n",
       "    </tr>\n",
       "    <tr>\n",
       "      <td>3</td>\n",
       "      <td>N</td>\n",
       "      <td>7</td>\n",
       "      <td>11</td>\n",
       "      <td>6</td>\n",
       "      <td>6</td>\n",
       "      <td>3</td>\n",
       "      <td>5</td>\n",
       "      <td>9</td>\n",
       "      <td>4</td>\n",
       "      <td>6</td>\n",
       "      <td>4</td>\n",
       "      <td>4</td>\n",
       "      <td>10</td>\n",
       "      <td>6</td>\n",
       "      <td>10</td>\n",
       "      <td>2</td>\n",
       "      <td>8</td>\n",
       "    </tr>\n",
       "    <tr>\n",
       "      <td>4</td>\n",
       "      <td>G</td>\n",
       "      <td>2</td>\n",
       "      <td>1</td>\n",
       "      <td>3</td>\n",
       "      <td>1</td>\n",
       "      <td>1</td>\n",
       "      <td>8</td>\n",
       "      <td>6</td>\n",
       "      <td>6</td>\n",
       "      <td>6</td>\n",
       "      <td>6</td>\n",
       "      <td>5</td>\n",
       "      <td>9</td>\n",
       "      <td>1</td>\n",
       "      <td>7</td>\n",
       "      <td>5</td>\n",
       "      <td>10</td>\n",
       "    </tr>\n",
       "  </tbody>\n",
       "</table>\n",
       "</div>"
      ],
      "text/plain": [
       "  letter  xbox  ybox  width  height  onpix  xbar  ybar  x2bar  y2bar  xybar  \\\n",
       "0      T     2     8      3       5      1     8    13      0      6      6   \n",
       "1      I     5    12      3       7      2    10     5      5      4     13   \n",
       "2      D     4    11      6       8      6    10     6      2      6     10   \n",
       "3      N     7    11      6       6      3     5     9      4      6      4   \n",
       "4      G     2     1      3       1      1     8     6      6      6      6   \n",
       "\n",
       "   x2ybar  xy2bar  xedge  xedgey  yedge  yedgex  \n",
       "0      10       8      0       8      0       8  \n",
       "1       3       9      2       8      4      10  \n",
       "2       3       7      3       7      3       9  \n",
       "3       4      10      6      10      2       8  \n",
       "4       5       9      1       7      5      10  "
      ]
     },
     "execution_count": 41,
     "metadata": {},
     "output_type": "execute_result"
    }
   ],
   "source": [
    "input_file = \"/Users/hit028/Desktop/530/Lab2/letterdata.csv\" \n",
    "letters = pd.read_csv(input_file)\n",
    "letters.head(5)"
   ]
  },
  {
   "cell_type": "markdown",
   "metadata": {},
   "source": [
    "### Step 2: Preparing the Data"
   ]
  },
  {
   "cell_type": "code",
   "execution_count": 43,
   "metadata": {},
   "outputs": [],
   "source": [
    "target3 = letters['letter']\n",
    "target3.value_counts()\n",
    "\n",
    "import random\n",
    "random.seed(12345)\n",
    "indx3 = random.sample(range(0, 1000), 1000)\n",
    "letter_rand3 = letters.iloc[indx]\n",
    "target_rand3 = target3.iloc[indx]\n",
    "\n",
    "letter_train3 = letter_rand3.iloc[0:90]\n",
    "letter_test3 = letter_rand3.iloc[900:1000]\n",
    "target_train3 = target_rand3.iloc[0:900]\n",
    "target_test3 = target_rand3.iloc[900:1000]\n",
    "\n",
    "target_train3.value_counts()/900\n",
    "\n",
    "target_test3.value_counts()/100\n",
    "\n",
    "from sklearn.model_selection import train_test_split\n",
    "y3 = target3\n",
    "X3 = letters.drop(['letter'], axis=1)\n",
    "\n",
    "X3_train, X3_test, y3_train, y3_test = train_test_split(X3, y3, test_size=0.1, random_state=123)"
   ]
  },
  {
   "cell_type": "markdown",
   "metadata": {},
   "source": [
    "### Step 3: Training a Model on the Data"
   ]
  },
  {
   "cell_type": "code",
   "execution_count": 45,
   "metadata": {},
   "outputs": [],
   "source": [
    "from sklearn import svm\n",
    "# Design the model\n",
    "clf3 = svm.SVC(kernel='linear') \n",
    "#clf = svm.LinearSVC(C=1) \n",
    "clf3.fit(X3_train, y3_train) \n",
    "y_predict3 = clf3.predict(X3_test)"
   ]
  },
  {
   "cell_type": "markdown",
   "metadata": {},
   "source": [
    "### Step 4: Evaluating Model Performance"
   ]
  },
  {
   "cell_type": "code",
   "execution_count": 47,
   "metadata": {},
   "outputs": [
    {
     "data": {
      "text/plain": [
       "array([[97,  0,  0,  0,  0,  0,  1,  0,  0,  0,  0,  0,  0,  1,  1,  0,\n",
       "         0,  0,  0,  0,  0,  0,  0,  0,  2,  0],\n",
       "       [ 0, 60,  0,  2,  1,  0,  0,  1,  0,  0,  0,  0,  0,  0,  0,  0,\n",
       "         0,  2,  2,  0,  0,  0,  0,  1,  0,  0],\n",
       "       [ 0,  0, 62,  0,  1,  0,  1,  0,  0,  0,  2,  0,  0,  0,  1,  0,\n",
       "         0,  0,  0,  0,  1,  0,  0,  0,  0,  0],\n",
       "       [ 0,  6,  0, 73,  0,  0,  0,  1,  0,  0,  0,  0,  0,  1,  1,  1,\n",
       "         0,  1,  0,  0,  0,  0,  0,  0,  0,  0],\n",
       "       [ 0,  0,  2,  0, 62,  0,  4,  0,  0,  0,  0,  1,  0,  0,  0,  0,\n",
       "         0,  0,  2,  2,  0,  0,  0,  0,  0,  0],\n",
       "       [ 0,  0,  1,  0,  1, 60,  1,  0,  0,  0,  0,  0,  0,  1,  0,  4,\n",
       "         0,  0,  1,  0,  0,  0,  0,  1,  0,  0],\n",
       "       [ 0,  0,  1,  2,  2,  0, 60,  1,  0,  0,  2,  2,  0,  0,  1,  1,\n",
       "         0,  1,  4,  0,  0,  0,  0,  0,  0,  0],\n",
       "       [ 0,  2,  0,  4,  0,  2,  1, 45,  0,  0,  5,  0,  0,  0,  2,  0,\n",
       "         1,  6,  0,  0,  1,  1,  0,  0,  0,  0],\n",
       "       [ 0,  0,  0,  1,  0,  4,  0,  0, 82,  2,  0,  0,  0,  0,  0,  0,\n",
       "         0,  0,  0,  0,  0,  0,  0,  0,  0,  0],\n",
       "       [ 1,  0,  0,  1,  0,  2,  0,  2,  0, 61,  0,  0,  0,  1,  0,  0,\n",
       "         0,  0,  2,  0,  0,  0,  0,  0,  0,  1],\n",
       "       [ 0,  1,  1,  0,  1,  0,  1,  1,  0,  0, 77,  1,  0,  0,  0,  0,\n",
       "         0,  4,  0,  0,  0,  0,  0,  0,  0,  0],\n",
       "       [ 0,  0,  0,  0,  4,  0,  4,  0,  0,  0,  0, 70,  0,  0,  0,  0,\n",
       "         2,  0,  0,  0,  0,  0,  0,  0,  0,  0],\n",
       "       [ 1,  1,  0,  0,  0,  0,  0,  3,  0,  0,  0,  0, 78,  0,  0,  0,\n",
       "         0,  1,  0,  0,  2,  0,  1,  0,  0,  0],\n",
       "       [ 1,  0,  1,  1,  0,  0,  0,  2,  0,  0,  0,  0,  0, 57,  0,  0,\n",
       "         0,  1,  0,  0,  0,  1,  0,  0,  0,  0],\n",
       "       [ 0,  0,  0,  2,  0,  0,  0,  6,  0,  0,  0,  0,  2,  0, 50,  0,\n",
       "         1,  1,  0,  1,  0,  0,  1,  0,  0,  0],\n",
       "       [ 0,  0,  0,  1,  0,  1,  2,  0,  0,  0,  0,  0,  0,  0,  0, 75,\n",
       "         0,  0,  0,  0,  0,  1,  0,  0,  1,  0],\n",
       "       [ 0,  0,  0,  0,  0,  0,  2,  0,  0,  1,  0,  0,  0,  0,  5,  0,\n",
       "        70,  0,  5,  0,  0,  0,  0,  0,  0,  1],\n",
       "       [ 0,  3,  0,  2,  0,  1,  2,  2,  0,  0,  2,  0,  0,  2,  0,  0,\n",
       "         0, 63,  0,  0,  0,  0,  0,  1,  0,  0],\n",
       "       [ 0,  6,  0,  0,  3,  1,  1,  0,  2,  0,  0,  2,  0,  0,  0,  0,\n",
       "         3,  0, 60,  1,  0,  0,  0,  0,  1,  1],\n",
       "       [ 0,  0,  0,  0,  1,  1,  1,  0,  0,  0,  0,  0,  0,  0,  0,  0,\n",
       "         1,  0,  2, 88,  1,  0,  0,  1,  1,  2],\n",
       "       [ 0,  0,  0,  0,  0,  0,  1,  1,  0,  0,  2,  0,  0,  1,  1,  0,\n",
       "         0,  0,  0,  0, 54,  0,  1,  0,  0,  0],\n",
       "       [ 0,  1,  0,  0,  0,  0,  0,  3,  0,  0,  0,  0,  0,  0,  0,  0,\n",
       "         0,  1,  0,  0,  0, 61,  0,  0,  0,  0],\n",
       "       [ 0,  0,  0,  0,  0,  0,  1,  0,  0,  0,  0,  0,  2,  0,  0,  0,\n",
       "         0,  0,  0,  0,  1,  2, 76,  0,  0,  0],\n",
       "       [ 0,  1,  0,  0,  0,  1,  1,  0,  2,  0,  1,  0,  0,  0,  0,  0,\n",
       "         0,  0,  1,  3,  0,  0,  0, 56,  0,  1],\n",
       "       [ 0,  0,  0,  1,  0,  1,  0,  0,  0,  0,  0,  0,  0,  0,  0,  0,\n",
       "         0,  0,  0,  2,  0,  1,  1,  1, 75,  0],\n",
       "       [ 0,  0,  0,  0,  2,  0,  0,  0,  1,  0,  0,  0,  0,  0,  0,  0,\n",
       "         0,  0,  8,  2,  0,  0,  0,  0,  0, 51]])"
      ]
     },
     "execution_count": 47,
     "metadata": {},
     "output_type": "execute_result"
    }
   ],
   "source": [
    "from sklearn.metrics import confusion_matrix\n",
    "confusion_matrix(y3_test, y_predict3)"
   ]
  },
  {
   "cell_type": "code",
   "execution_count": 48,
   "metadata": {},
   "outputs": [
    {
     "data": {
      "text/plain": [
       "86.15"
      ]
     },
     "execution_count": 48,
     "metadata": {},
     "output_type": "execute_result"
    }
   ],
   "source": [
    "# Now compute the accuracy.\n",
    "\n",
    "accuracy_score(y3_test, y_predict3)*100"
   ]
  },
  {
   "cell_type": "markdown",
   "metadata": {},
   "source": [
    "Q4- We may be able to do better than this by changing the Kernels. Try Polynomial and RBF kernels to improve the result."
   ]
  },
  {
   "cell_type": "code",
   "execution_count": 50,
   "metadata": {},
   "outputs": [
    {
     "name": "stderr",
     "output_type": "stream",
     "text": [
      "/Users/hit028/opt/anaconda3/lib/python3.7/site-packages/sklearn/svm/base.py:193: FutureWarning: The default value of gamma will change from 'auto' to 'scale' in version 0.22 to account better for unscaled features. Set gamma explicitly to 'auto' or 'scale' to avoid this warning.\n",
      "  \"avoid this warning.\", FutureWarning)\n"
     ]
    },
    {
     "data": {
      "text/plain": [
       "SVC(C=1.0, cache_size=200, class_weight=None, coef0=0.0,\n",
       "    decision_function_shape='ovr', degree=3, gamma='auto_deprecated',\n",
       "    kernel='poly', max_iter=-1, probability=False, random_state=None,\n",
       "    shrinking=True, tol=0.001, verbose=False)"
      ]
     },
     "execution_count": 50,
     "metadata": {},
     "output_type": "execute_result"
    }
   ],
   "source": [
    "clf32 = svm.SVC(kernel = 'poly', degree=3)\n",
    "clf32.fit(X3_train, y3_train)"
   ]
  },
  {
   "cell_type": "code",
   "execution_count": 51,
   "metadata": {},
   "outputs": [
    {
     "data": {
      "text/plain": [
       "95.85000000000001"
      ]
     },
     "execution_count": 51,
     "metadata": {},
     "output_type": "execute_result"
    }
   ],
   "source": [
    "y_predict32 = clf32.predict(X3_test)\n",
    "accuracy_score(y3_test, y_predict32)*100"
   ]
  },
  {
   "cell_type": "code",
   "execution_count": 52,
   "metadata": {},
   "outputs": [
    {
     "data": {
      "text/plain": [
       "SVC(C=1.0, cache_size=200, class_weight=None, coef0=0.0,\n",
       "    decision_function_shape='ovr', degree=3, gamma=0.3, kernel='rbf',\n",
       "    max_iter=-1, probability=False, random_state=None, shrinking=True,\n",
       "    tol=0.001, verbose=False)"
      ]
     },
     "execution_count": 52,
     "metadata": {},
     "output_type": "execute_result"
    }
   ],
   "source": [
    "clf33 = svm.SVC(kernel = 'rbf', gamma =0.3)\n",
    "clf33.fit(X3_train, y3_train) "
   ]
  },
  {
   "cell_type": "code",
   "execution_count": 53,
   "metadata": {},
   "outputs": [
    {
     "data": {
      "text/plain": [
       "92.4"
      ]
     },
     "execution_count": 53,
     "metadata": {},
     "output_type": "execute_result"
    }
   ],
   "source": [
    "y_predict33 = clf33.predict(X3_test) \n",
    "accuracy_score(y3_test, y_predict33)*100 "
   ]
  },
  {
   "cell_type": "markdown",
   "metadata": {},
   "source": [
    "## Laboratory 2: News popularity, Part 4"
   ]
  },
  {
   "cell_type": "markdown",
   "metadata": {},
   "source": [
    "Now apply the Naïve Bayes classifier and SVM that you saw in Parts 1 through 3 on News popularity data set from lab 1. Running SVM on original dataset will take a long time. To resolve this issue, normalize the data and/or try to remove some of the features or consider less number of instances for training."
   ]
  },
  {
   "cell_type": "markdown",
   "metadata": {},
   "source": [
    "### Step 1: Collecting the Data"
   ]
  },
  {
   "cell_type": "code",
   "execution_count": 57,
   "metadata": {},
   "outputs": [
    {
     "data": {
      "text/html": [
       "<div>\n",
       "<style scoped>\n",
       "    .dataframe tbody tr th:only-of-type {\n",
       "        vertical-align: middle;\n",
       "    }\n",
       "\n",
       "    .dataframe tbody tr th {\n",
       "        vertical-align: top;\n",
       "    }\n",
       "\n",
       "    .dataframe thead th {\n",
       "        text-align: right;\n",
       "    }\n",
       "</style>\n",
       "<table border=\"1\" class=\"dataframe\">\n",
       "  <thead>\n",
       "    <tr style=\"text-align: right;\">\n",
       "      <th></th>\n",
       "      <th>url</th>\n",
       "      <th>timedelta</th>\n",
       "      <th>n_tokens_title</th>\n",
       "      <th>n_tokens_content</th>\n",
       "      <th>n_unique_tokens</th>\n",
       "      <th>n_non_stop_words</th>\n",
       "      <th>n_non_stop_unique_tokens</th>\n",
       "      <th>num_hrefs</th>\n",
       "      <th>num_self_hrefs</th>\n",
       "      <th>num_imgs</th>\n",
       "      <th>...</th>\n",
       "      <th>min_positive_polarity</th>\n",
       "      <th>max_positive_polarity</th>\n",
       "      <th>avg_negative_polarity</th>\n",
       "      <th>min_negative_polarity</th>\n",
       "      <th>max_negative_polarity</th>\n",
       "      <th>title_subjectivity</th>\n",
       "      <th>title_sentiment_polarity</th>\n",
       "      <th>abs_title_subjectivity</th>\n",
       "      <th>abs_title_sentiment_polarity</th>\n",
       "      <th>shares</th>\n",
       "    </tr>\n",
       "  </thead>\n",
       "  <tbody>\n",
       "    <tr>\n",
       "      <td>0</td>\n",
       "      <td>http://mashable.com/2013/01/07/amazon-instant-...</td>\n",
       "      <td>731</td>\n",
       "      <td>12</td>\n",
       "      <td>219</td>\n",
       "      <td>0.663594</td>\n",
       "      <td>1.0</td>\n",
       "      <td>0.815385</td>\n",
       "      <td>4</td>\n",
       "      <td>2</td>\n",
       "      <td>1</td>\n",
       "      <td>...</td>\n",
       "      <td>0.100000</td>\n",
       "      <td>0.7</td>\n",
       "      <td>-0.350000</td>\n",
       "      <td>-0.600</td>\n",
       "      <td>-0.200000</td>\n",
       "      <td>0.500000</td>\n",
       "      <td>-0.187500</td>\n",
       "      <td>0.000000</td>\n",
       "      <td>0.187500</td>\n",
       "      <td>593</td>\n",
       "    </tr>\n",
       "    <tr>\n",
       "      <td>1</td>\n",
       "      <td>http://mashable.com/2013/01/07/ap-samsung-spon...</td>\n",
       "      <td>731</td>\n",
       "      <td>9</td>\n",
       "      <td>255</td>\n",
       "      <td>0.604743</td>\n",
       "      <td>1.0</td>\n",
       "      <td>0.791946</td>\n",
       "      <td>3</td>\n",
       "      <td>1</td>\n",
       "      <td>1</td>\n",
       "      <td>...</td>\n",
       "      <td>0.033333</td>\n",
       "      <td>0.7</td>\n",
       "      <td>-0.118750</td>\n",
       "      <td>-0.125</td>\n",
       "      <td>-0.100000</td>\n",
       "      <td>0.000000</td>\n",
       "      <td>0.000000</td>\n",
       "      <td>0.500000</td>\n",
       "      <td>0.000000</td>\n",
       "      <td>711</td>\n",
       "    </tr>\n",
       "    <tr>\n",
       "      <td>2</td>\n",
       "      <td>http://mashable.com/2013/01/07/apple-40-billio...</td>\n",
       "      <td>731</td>\n",
       "      <td>9</td>\n",
       "      <td>211</td>\n",
       "      <td>0.575130</td>\n",
       "      <td>1.0</td>\n",
       "      <td>0.663866</td>\n",
       "      <td>3</td>\n",
       "      <td>1</td>\n",
       "      <td>1</td>\n",
       "      <td>...</td>\n",
       "      <td>0.100000</td>\n",
       "      <td>1.0</td>\n",
       "      <td>-0.466667</td>\n",
       "      <td>-0.800</td>\n",
       "      <td>-0.133333</td>\n",
       "      <td>0.000000</td>\n",
       "      <td>0.000000</td>\n",
       "      <td>0.500000</td>\n",
       "      <td>0.000000</td>\n",
       "      <td>1500</td>\n",
       "    </tr>\n",
       "    <tr>\n",
       "      <td>3</td>\n",
       "      <td>http://mashable.com/2013/01/07/astronaut-notre...</td>\n",
       "      <td>731</td>\n",
       "      <td>9</td>\n",
       "      <td>531</td>\n",
       "      <td>0.503788</td>\n",
       "      <td>1.0</td>\n",
       "      <td>0.665635</td>\n",
       "      <td>9</td>\n",
       "      <td>0</td>\n",
       "      <td>1</td>\n",
       "      <td>...</td>\n",
       "      <td>0.136364</td>\n",
       "      <td>0.8</td>\n",
       "      <td>-0.369697</td>\n",
       "      <td>-0.600</td>\n",
       "      <td>-0.166667</td>\n",
       "      <td>0.000000</td>\n",
       "      <td>0.000000</td>\n",
       "      <td>0.500000</td>\n",
       "      <td>0.000000</td>\n",
       "      <td>1200</td>\n",
       "    </tr>\n",
       "    <tr>\n",
       "      <td>4</td>\n",
       "      <td>http://mashable.com/2013/01/07/att-u-verse-apps/</td>\n",
       "      <td>731</td>\n",
       "      <td>13</td>\n",
       "      <td>1072</td>\n",
       "      <td>0.415646</td>\n",
       "      <td>1.0</td>\n",
       "      <td>0.540890</td>\n",
       "      <td>19</td>\n",
       "      <td>19</td>\n",
       "      <td>20</td>\n",
       "      <td>...</td>\n",
       "      <td>0.033333</td>\n",
       "      <td>1.0</td>\n",
       "      <td>-0.220192</td>\n",
       "      <td>-0.500</td>\n",
       "      <td>-0.050000</td>\n",
       "      <td>0.454545</td>\n",
       "      <td>0.136364</td>\n",
       "      <td>0.045455</td>\n",
       "      <td>0.136364</td>\n",
       "      <td>505</td>\n",
       "    </tr>\n",
       "  </tbody>\n",
       "</table>\n",
       "<p>5 rows × 61 columns</p>\n",
       "</div>"
      ],
      "text/plain": [
       "                                                 url  timedelta  \\\n",
       "0  http://mashable.com/2013/01/07/amazon-instant-...        731   \n",
       "1  http://mashable.com/2013/01/07/ap-samsung-spon...        731   \n",
       "2  http://mashable.com/2013/01/07/apple-40-billio...        731   \n",
       "3  http://mashable.com/2013/01/07/astronaut-notre...        731   \n",
       "4   http://mashable.com/2013/01/07/att-u-verse-apps/        731   \n",
       "\n",
       "   n_tokens_title  n_tokens_content  n_unique_tokens  n_non_stop_words  \\\n",
       "0              12               219         0.663594               1.0   \n",
       "1               9               255         0.604743               1.0   \n",
       "2               9               211         0.575130               1.0   \n",
       "3               9               531         0.503788               1.0   \n",
       "4              13              1072         0.415646               1.0   \n",
       "\n",
       "   n_non_stop_unique_tokens  num_hrefs  num_self_hrefs  num_imgs  ...  \\\n",
       "0                  0.815385          4               2         1  ...   \n",
       "1                  0.791946          3               1         1  ...   \n",
       "2                  0.663866          3               1         1  ...   \n",
       "3                  0.665635          9               0         1  ...   \n",
       "4                  0.540890         19              19        20  ...   \n",
       "\n",
       "   min_positive_polarity  max_positive_polarity  avg_negative_polarity  \\\n",
       "0               0.100000                    0.7              -0.350000   \n",
       "1               0.033333                    0.7              -0.118750   \n",
       "2               0.100000                    1.0              -0.466667   \n",
       "3               0.136364                    0.8              -0.369697   \n",
       "4               0.033333                    1.0              -0.220192   \n",
       "\n",
       "   min_negative_polarity  max_negative_polarity  title_subjectivity  \\\n",
       "0                 -0.600              -0.200000            0.500000   \n",
       "1                 -0.125              -0.100000            0.000000   \n",
       "2                 -0.800              -0.133333            0.000000   \n",
       "3                 -0.600              -0.166667            0.000000   \n",
       "4                 -0.500              -0.050000            0.454545   \n",
       "\n",
       "   title_sentiment_polarity  abs_title_subjectivity  \\\n",
       "0                 -0.187500                0.000000   \n",
       "1                  0.000000                0.500000   \n",
       "2                  0.000000                0.500000   \n",
       "3                  0.000000                0.500000   \n",
       "4                  0.136364                0.045455   \n",
       "\n",
       "   abs_title_sentiment_polarity  shares  \n",
       "0                      0.187500     593  \n",
       "1                      0.000000     711  \n",
       "2                      0.000000    1500  \n",
       "3                      0.000000    1200  \n",
       "4                      0.136364     505  \n",
       "\n",
       "[5 rows x 61 columns]"
      ]
     },
     "execution_count": 57,
     "metadata": {},
     "output_type": "execute_result"
    }
   ],
   "source": [
    "import pandas as pd \n",
    "input_file4 = \"/Users/hit028/Desktop/530/530 Lab1/OnlineNewsPopularityP.csv\"\n",
    "news = pd.read_csv(input_file4)\n",
    "news.head(5)"
   ]
  },
  {
   "cell_type": "markdown",
   "metadata": {},
   "source": [
    "### Step 2: Preparing the Data"
   ]
  },
  {
   "cell_type": "code",
   "execution_count": 72,
   "metadata": {},
   "outputs": [
    {
     "name": "stdout",
     "output_type": "stream",
     "text": [
      "<class 'pandas.core.frame.DataFrame'>\n",
      "RangeIndex: 39644 entries, 0 to 39643\n",
      "Data columns (total 61 columns):\n",
      "url                              39644 non-null object\n",
      "timedelta                        39644 non-null int64\n",
      "n_tokens_title                   39644 non-null int64\n",
      "n_tokens_content                 39644 non-null int64\n",
      "n_unique_tokens                  39644 non-null float64\n",
      "n_non_stop_words                 39644 non-null float64\n",
      "n_non_stop_unique_tokens         39644 non-null float64\n",
      "num_hrefs                        39644 non-null int64\n",
      "num_self_hrefs                   39644 non-null int64\n",
      "num_imgs                         39644 non-null int64\n",
      "num_videos                       39644 non-null int64\n",
      "average_token_length             39644 non-null float64\n",
      "num_keywords                     39644 non-null int64\n",
      "data_channel_is_lifestyle        39644 non-null int64\n",
      "data_channel_is_entertainment    39644 non-null int64\n",
      "data_channel_is_bus              39644 non-null int64\n",
      "data_channel_is_socmed           39644 non-null int64\n",
      "data_channel_is_tech             39644 non-null int64\n",
      "data_channel_is_world            39644 non-null int64\n",
      "kw_min_min                       39644 non-null int64\n",
      "kw_max_min                       39644 non-null float64\n",
      "kw_avg_min                       39644 non-null float64\n",
      "kw_min_max                       39644 non-null int64\n",
      "kw_max_max                       39644 non-null int64\n",
      "kw_avg_max                       39644 non-null float64\n",
      "kw_min_avg                       39644 non-null float64\n",
      "kw_max_avg                       39644 non-null float64\n",
      "kw_avg_avg                       39644 non-null float64\n",
      "self_reference_min_shares        39644 non-null float64\n",
      "self_reference_max_shares        39644 non-null float64\n",
      "self_reference_avg_sharess       39644 non-null float64\n",
      "weekday_is_monday                39644 non-null int64\n",
      "weekday_is_tuesday               39644 non-null int64\n",
      "weekday_is_wednesday             39644 non-null int64\n",
      "weekday_is_thursday              39644 non-null int64\n",
      "weekday_is_friday                39644 non-null int64\n",
      "weekday_is_saturday              39644 non-null int64\n",
      "weekday_is_sunday                39644 non-null int64\n",
      "is_weekend                       39644 non-null int64\n",
      "LDA_00                           39644 non-null float64\n",
      "LDA_01                           39644 non-null float64\n",
      "LDA_02                           39644 non-null float64\n",
      "LDA_03                           39644 non-null float64\n",
      "LDA_04                           39644 non-null float64\n",
      "global_subjectivity              39644 non-null float64\n",
      "global_sentiment_polarity        39644 non-null float64\n",
      "global_rate_positive_words       39644 non-null float64\n",
      "global_rate_negative_words       39644 non-null float64\n",
      "rate_positive_words              39644 non-null float64\n",
      "rate_negative_words              39644 non-null float64\n",
      "avg_positive_polarity            39644 non-null float64\n",
      "min_positive_polarity            39644 non-null float64\n",
      "max_positive_polarity            39644 non-null float64\n",
      "avg_negative_polarity            39644 non-null float64\n",
      "min_negative_polarity            39644 non-null float64\n",
      "max_negative_polarity            39644 non-null float64\n",
      "title_subjectivity               39644 non-null float64\n",
      "title_sentiment_polarity         39644 non-null float64\n",
      "abs_title_subjectivity           39644 non-null float64\n",
      "abs_title_sentiment_polarity     39644 non-null float64\n",
      "shares                           39644 non-null int64\n",
      "dtypes: float64(34), int64(26), object(1)\n",
      "memory usage: 18.5+ MB\n"
     ]
    }
   ],
   "source": [
    "news.info()"
   ]
  },
  {
   "cell_type": "code",
   "execution_count": 59,
   "metadata": {},
   "outputs": [
    {
     "data": {
      "text/plain": [
       "1100      2308\n",
       "1200      2018\n",
       "1300      1740\n",
       "1400      1592\n",
       "1500      1323\n",
       "          ... \n",
       "197600       1\n",
       "310800       1\n",
       "92           1\n",
       "57800        1\n",
       "82200        1\n",
       "Name: shares, Length: 1454, dtype: int64"
      ]
     },
     "execution_count": 59,
     "metadata": {},
     "output_type": "execute_result"
    }
   ],
   "source": [
    "target4 = news['shares']\n",
    "target4.value_counts()"
   ]
  },
  {
   "cell_type": "code",
   "execution_count": 99,
   "metadata": {},
   "outputs": [],
   "source": [
    "popular = news.shares >= 1400\n",
    "unpopular = news.shares < 1400 \n",
    "news.loc[popular,'shares'] = 1 \n",
    "news.loc[unpopular,'shares'] = 0\n",
    "\n",
    "import random\n",
    "random.seed(12345)\n",
    "indx4 = random.sample(range(0, 1000), 1000) \n",
    "news_rand = news.iloc[indx3] \n",
    "target4_rand = target3.iloc[indx3]\n",
    "\n",
    "news_train = news_rand.iloc[0:700] \n",
    "news_test = news_rand.iloc[700:1000]\n",
    "target4_train = target4_rand.iloc[0:700] \n",
    "target4_test = target4_rand.iloc[700:1000]"
   ]
  },
  {
   "cell_type": "code",
   "execution_count": 100,
   "metadata": {},
   "outputs": [],
   "source": [
    "y4 = target4\n",
    "X4 = news.drop(['url', 'shares'], axis=1)"
   ]
  },
  {
   "cell_type": "code",
   "execution_count": 101,
   "metadata": {},
   "outputs": [
    {
     "data": {
      "text/plain": [
       "1    0.531568\n",
       "0    0.468432\n",
       "Name: shares, dtype: float64"
      ]
     },
     "execution_count": 101,
     "metadata": {},
     "output_type": "execute_result"
    }
   ],
   "source": [
    "from sklearn.model_selection import train_test_split\n",
    "\n",
    "X4_train, X4_test, y4_train, y4_test = train_test_split(X4, y4, test_size = 0.30, random_state = 12345)\n",
    "y4_train.value_counts()/y4_train.shape"
   ]
  },
  {
   "cell_type": "markdown",
   "metadata": {},
   "source": [
    "### Step 3: Training a Model on the Data"
   ]
  },
  {
   "cell_type": "markdown",
   "metadata": {},
   "source": [
    "#### Naïve Bayes Classifier"
   ]
  },
  {
   "cell_type": "code",
   "execution_count": 104,
   "metadata": {},
   "outputs": [],
   "source": [
    "from sklearn.naive_bayes import GaussianNB \n",
    "from sklearn.metrics import accuracy_score\n",
    "gnb4 = GaussianNB() \n",
    "gnb4 = gnb4.fit(X4_train, y4_train)\n",
    "y_predict41 = gnb4.predict(X4_test)"
   ]
  },
  {
   "cell_type": "code",
   "execution_count": 105,
   "metadata": {},
   "outputs": [
    {
     "data": {
      "text/plain": [
       "49.394652766100556"
      ]
     },
     "execution_count": 105,
     "metadata": {},
     "output_type": "execute_result"
    }
   ],
   "source": [
    "accuracy_score(y4_test, y_predict41)*100"
   ]
  },
  {
   "cell_type": "markdown",
   "metadata": {},
   "source": [
    "#### SVM"
   ]
  },
  {
   "cell_type": "code",
   "execution_count": 106,
   "metadata": {},
   "outputs": [
    {
     "name": "stdout",
     "output_type": "stream",
     "text": [
      "url\n",
      "timedelta\n",
      "n_tokens_title\n",
      "n_tokens_content\n",
      "n_unique_tokens\n",
      "n_non_stop_words\n",
      "n_non_stop_unique_tokens\n",
      "num_hrefs\n",
      "num_self_hrefs\n",
      "num_imgs\n",
      "num_videos\n",
      "average_token_length\n",
      "num_keywords\n",
      "data_channel_is_lifestyle\n",
      "data_channel_is_entertainment\n",
      "data_channel_is_bus\n",
      "data_channel_is_socmed\n",
      "data_channel_is_tech\n",
      "data_channel_is_world\n",
      "kw_min_min\n",
      "kw_max_min\n",
      "kw_avg_min\n",
      "kw_min_max\n",
      "kw_max_max\n",
      "kw_avg_max\n",
      "kw_min_avg\n",
      "kw_max_avg\n",
      "kw_avg_avg\n",
      "self_reference_min_shares\n",
      "self_reference_max_shares\n",
      "self_reference_avg_sharess\n",
      "weekday_is_monday\n",
      "weekday_is_tuesday\n",
      "weekday_is_wednesday\n",
      "weekday_is_thursday\n",
      "weekday_is_friday\n",
      "weekday_is_saturday\n",
      "weekday_is_sunday\n",
      "is_weekend\n",
      "LDA_00\n",
      "LDA_01\n",
      "LDA_02\n",
      "LDA_03\n",
      "LDA_04\n",
      "global_subjectivity\n",
      "global_sentiment_polarity\n",
      "global_rate_positive_words\n",
      "global_rate_negative_words\n",
      "rate_positive_words\n",
      "rate_negative_words\n",
      "avg_positive_polarity\n",
      "min_positive_polarity\n",
      "max_positive_polarity\n",
      "avg_negative_polarity\n",
      "min_negative_polarity\n",
      "max_negative_polarity\n",
      "title_subjectivity\n",
      "title_sentiment_polarity\n",
      "abs_title_subjectivity\n",
      "abs_title_sentiment_polarity\n",
      "shares\n"
     ]
    }
   ],
   "source": [
    "# Find all column names to select some for SVM\n",
    "import pandas as pd  \n",
    "for col in news.columns: \n",
    "    print(col) "
   ]
  },
  {
   "cell_type": "code",
   "execution_count": 107,
   "metadata": {},
   "outputs": [
    {
     "data": {
      "text/plain": [
       "(56, 61)"
      ]
     },
     "execution_count": 107,
     "metadata": {},
     "output_type": "execute_result"
    }
   ],
   "source": [
    "# Select the last 5 columns to include 'shares'.\n",
    "\n",
    "col_start = news.columns.get_loc('title_subjectivity')\n",
    "col_end = news.columns.get_loc('title_subjectivity')+5\n",
    "col_start, col_end"
   ]
  },
  {
   "cell_type": "code",
   "execution_count": 108,
   "metadata": {},
   "outputs": [
    {
     "data": {
      "text/html": [
       "<div>\n",
       "<style scoped>\n",
       "    .dataframe tbody tr th:only-of-type {\n",
       "        vertical-align: middle;\n",
       "    }\n",
       "\n",
       "    .dataframe tbody tr th {\n",
       "        vertical-align: top;\n",
       "    }\n",
       "\n",
       "    .dataframe thead th {\n",
       "        text-align: right;\n",
       "    }\n",
       "</style>\n",
       "<table border=\"1\" class=\"dataframe\">\n",
       "  <thead>\n",
       "    <tr style=\"text-align: right;\">\n",
       "      <th></th>\n",
       "      <th>title_subjectivity</th>\n",
       "      <th>title_sentiment_polarity</th>\n",
       "      <th>abs_title_subjectivity</th>\n",
       "      <th>abs_title_sentiment_polarity</th>\n",
       "      <th>shares</th>\n",
       "    </tr>\n",
       "  </thead>\n",
       "  <tbody>\n",
       "    <tr>\n",
       "      <td>0</td>\n",
       "      <td>0.500000</td>\n",
       "      <td>-0.187500</td>\n",
       "      <td>0.000000</td>\n",
       "      <td>0.187500</td>\n",
       "      <td>0</td>\n",
       "    </tr>\n",
       "    <tr>\n",
       "      <td>1</td>\n",
       "      <td>0.000000</td>\n",
       "      <td>0.000000</td>\n",
       "      <td>0.500000</td>\n",
       "      <td>0.000000</td>\n",
       "      <td>0</td>\n",
       "    </tr>\n",
       "    <tr>\n",
       "      <td>2</td>\n",
       "      <td>0.000000</td>\n",
       "      <td>0.000000</td>\n",
       "      <td>0.500000</td>\n",
       "      <td>0.000000</td>\n",
       "      <td>1</td>\n",
       "    </tr>\n",
       "    <tr>\n",
       "      <td>3</td>\n",
       "      <td>0.000000</td>\n",
       "      <td>0.000000</td>\n",
       "      <td>0.500000</td>\n",
       "      <td>0.000000</td>\n",
       "      <td>0</td>\n",
       "    </tr>\n",
       "    <tr>\n",
       "      <td>4</td>\n",
       "      <td>0.454545</td>\n",
       "      <td>0.136364</td>\n",
       "      <td>0.045455</td>\n",
       "      <td>0.136364</td>\n",
       "      <td>0</td>\n",
       "    </tr>\n",
       "    <tr>\n",
       "      <td>...</td>\n",
       "      <td>...</td>\n",
       "      <td>...</td>\n",
       "      <td>...</td>\n",
       "      <td>...</td>\n",
       "      <td>...</td>\n",
       "    </tr>\n",
       "    <tr>\n",
       "      <td>95</td>\n",
       "      <td>0.000000</td>\n",
       "      <td>0.000000</td>\n",
       "      <td>0.500000</td>\n",
       "      <td>0.000000</td>\n",
       "      <td>1</td>\n",
       "    </tr>\n",
       "    <tr>\n",
       "      <td>96</td>\n",
       "      <td>1.000000</td>\n",
       "      <td>-1.000000</td>\n",
       "      <td>0.500000</td>\n",
       "      <td>1.000000</td>\n",
       "      <td>1</td>\n",
       "    </tr>\n",
       "    <tr>\n",
       "      <td>97</td>\n",
       "      <td>0.200000</td>\n",
       "      <td>-0.100000</td>\n",
       "      <td>0.300000</td>\n",
       "      <td>0.100000</td>\n",
       "      <td>0</td>\n",
       "    </tr>\n",
       "    <tr>\n",
       "      <td>98</td>\n",
       "      <td>0.000000</td>\n",
       "      <td>0.000000</td>\n",
       "      <td>0.500000</td>\n",
       "      <td>0.000000</td>\n",
       "      <td>0</td>\n",
       "    </tr>\n",
       "    <tr>\n",
       "      <td>99</td>\n",
       "      <td>0.100000</td>\n",
       "      <td>0.000000</td>\n",
       "      <td>0.400000</td>\n",
       "      <td>0.000000</td>\n",
       "      <td>1</td>\n",
       "    </tr>\n",
       "  </tbody>\n",
       "</table>\n",
       "<p>100 rows × 5 columns</p>\n",
       "</div>"
      ],
      "text/plain": [
       "    title_subjectivity  title_sentiment_polarity  abs_title_subjectivity  \\\n",
       "0             0.500000                 -0.187500                0.000000   \n",
       "1             0.000000                  0.000000                0.500000   \n",
       "2             0.000000                  0.000000                0.500000   \n",
       "3             0.000000                  0.000000                0.500000   \n",
       "4             0.454545                  0.136364                0.045455   \n",
       "..                 ...                       ...                     ...   \n",
       "95            0.000000                  0.000000                0.500000   \n",
       "96            1.000000                 -1.000000                0.500000   \n",
       "97            0.200000                 -0.100000                0.300000   \n",
       "98            0.000000                  0.000000                0.500000   \n",
       "99            0.100000                  0.000000                0.400000   \n",
       "\n",
       "    abs_title_sentiment_polarity  shares  \n",
       "0                       0.187500       0  \n",
       "1                       0.000000       0  \n",
       "2                       0.000000       1  \n",
       "3                       0.000000       0  \n",
       "4                       0.136364       0  \n",
       "..                           ...     ...  \n",
       "95                      0.000000       1  \n",
       "96                      1.000000       1  \n",
       "97                      0.100000       0  \n",
       "98                      0.000000       0  \n",
       "99                      0.000000       1  \n",
       "\n",
       "[100 rows x 5 columns]"
      ]
     },
     "execution_count": 108,
     "metadata": {},
     "output_type": "execute_result"
    }
   ],
   "source": [
    "news.iloc[:100, col_start:col_end]"
   ]
  },
  {
   "cell_type": "code",
   "execution_count": 109,
   "metadata": {},
   "outputs": [],
   "source": [
    "# news2 is now my new data set for SVM.\n",
    "\n",
    "news2 = news.iloc[:100, col_start:col_end]"
   ]
  },
  {
   "cell_type": "code",
   "execution_count": 110,
   "metadata": {},
   "outputs": [
    {
     "data": {
      "text/plain": [
       "0    62\n",
       "1    38\n",
       "Name: shares, dtype: int64"
      ]
     },
     "execution_count": 110,
     "metadata": {},
     "output_type": "execute_result"
    }
   ],
   "source": [
    "# Preparing data - reset target\n",
    "\n",
    "target42 = news2['shares']\n",
    "target42.value_counts()"
   ]
  },
  {
   "cell_type": "code",
   "execution_count": 111,
   "metadata": {},
   "outputs": [],
   "source": [
    "import random\n",
    "random.seed(12345)\n",
    "indx42 = random.sample(range(0, 100), 100) \n",
    "news2_rand = news2.iloc[indx42] \n",
    "target42_rand = target42.iloc[indx42]"
   ]
  },
  {
   "cell_type": "code",
   "execution_count": 112,
   "metadata": {},
   "outputs": [],
   "source": [
    "news2_train = news2_rand.iloc[0:70]\n",
    "news2_test = news2_rand.iloc[700:1000]\n",
    "target42_train = target42_rand.iloc[0:700]\n",
    "target42_test = target42_rand.iloc[700:1000]\n",
    "\n",
    "target42_train.value_counts()/700\n",
    "\n",
    "target42_test.value_counts()/300\n",
    "\n",
    "from sklearn.model_selection import train_test_split\n",
    "y42 = target42\n",
    "X42 = news2.drop(['shares'], axis=1)\n",
    "\n",
    "X42_train, X42_test, y42_train, y42_test = train_test_split(X42, y42, test_size=0.3, random_state=123)"
   ]
  },
  {
   "cell_type": "markdown",
   "metadata": {},
   "source": [
    "### Training a Model on the new data news2."
   ]
  },
  {
   "cell_type": "markdown",
   "metadata": {},
   "source": [
    "#### Linear kernel"
   ]
  },
  {
   "cell_type": "code",
   "execution_count": 115,
   "metadata": {},
   "outputs": [
    {
     "data": {
      "text/plain": [
       "array([[17,  1],\n",
       "       [12,  0]])"
      ]
     },
     "execution_count": 115,
     "metadata": {},
     "output_type": "execute_result"
    }
   ],
   "source": [
    "from sklearn import svm\n",
    "# Design the model\n",
    "clf42 = svm.SVC(kernel = 'linear') \n",
    "#clf = svm.LinearSVC(C=1) \n",
    "clf42.fit(X42_train, y42_train) \n",
    "y_predict42 = clf42.predict(X42_test)\n",
    "\n",
    "# Evaluate the model\n",
    "from sklearn.metrics import confusion_matrix\n",
    "confusion_matrix(y42_test, y_predict42)"
   ]
  },
  {
   "cell_type": "code",
   "execution_count": 116,
   "metadata": {},
   "outputs": [
    {
     "data": {
      "text/plain": [
       "56.666666666666664"
      ]
     },
     "execution_count": 116,
     "metadata": {},
     "output_type": "execute_result"
    }
   ],
   "source": [
    "accuracy_score(y42_test, y_predict42)*100"
   ]
  },
  {
   "cell_type": "markdown",
   "metadata": {},
   "source": [
    "#### Polynomial kernel"
   ]
  },
  {
   "cell_type": "code",
   "execution_count": 118,
   "metadata": {},
   "outputs": [
    {
     "name": "stderr",
     "output_type": "stream",
     "text": [
      "/Users/hit028/opt/anaconda3/lib/python3.7/site-packages/sklearn/svm/base.py:193: FutureWarning: The default value of gamma will change from 'auto' to 'scale' in version 0.22 to account better for unscaled features. Set gamma explicitly to 'auto' or 'scale' to avoid this warning.\n",
      "  \"avoid this warning.\", FutureWarning)\n"
     ]
    },
    {
     "data": {
      "text/plain": [
       "SVC(C=1.0, cache_size=200, class_weight=None, coef0=0.0,\n",
       "    decision_function_shape='ovr', degree=3, gamma='auto_deprecated',\n",
       "    kernel='poly', max_iter=-1, probability=False, random_state=None,\n",
       "    shrinking=True, tol=0.001, verbose=False)"
      ]
     },
     "execution_count": 118,
     "metadata": {},
     "output_type": "execute_result"
    }
   ],
   "source": [
    "clf42 = svm.SVC(kernel = 'poly', degree=3)\n",
    "clf42.fit(X42_train, y42_train)"
   ]
  },
  {
   "cell_type": "code",
   "execution_count": 119,
   "metadata": {},
   "outputs": [
    {
     "data": {
      "text/plain": [
       "60.0"
      ]
     },
     "execution_count": 119,
     "metadata": {},
     "output_type": "execute_result"
    }
   ],
   "source": [
    "y_predict42 = clf42.predict(X42_test)\n",
    "accuracy_score(y42_test, y_predict42)*100"
   ]
  },
  {
   "cell_type": "markdown",
   "metadata": {},
   "source": [
    "#### RBF kernel"
   ]
  },
  {
   "cell_type": "code",
   "execution_count": 121,
   "metadata": {},
   "outputs": [
    {
     "data": {
      "text/plain": [
       "SVC(C=1.0, cache_size=200, class_weight=None, coef0=0.0,\n",
       "    decision_function_shape='ovr', degree=3, gamma=0.3, kernel='rbf',\n",
       "    max_iter=-1, probability=False, random_state=None, shrinking=True,\n",
       "    tol=0.001, verbose=False)"
      ]
     },
     "execution_count": 121,
     "metadata": {},
     "output_type": "execute_result"
    }
   ],
   "source": [
    "clf43 = svm.SVC(kernel = 'rbf', gamma =0.3)\n",
    "clf43.fit(X42_train, y42_train) "
   ]
  },
  {
   "cell_type": "code",
   "execution_count": 122,
   "metadata": {},
   "outputs": [
    {
     "data": {
      "text/plain": [
       "56.666666666666664"
      ]
     },
     "execution_count": 122,
     "metadata": {},
     "output_type": "execute_result"
    }
   ],
   "source": [
    "y_predict43 = clf43.predict(X42_test) \n",
    "accuracy_score(y42_test, y_predict43)*100 "
   ]
  },
  {
   "cell_type": "markdown",
   "metadata": {},
   "source": [
    "Q5- Do you see any improvement compared to last three techniques? Please completely explain your results and analysis.\n",
    "\n",
    "Answer: As a summary, I got the accuracy sccore for Naïve Bayes Classifiers = 49.4%, SVM Linear & rbf = 56.7%, and SVM polynomial kernel = 60%. This backs up the result of the previous dataset analysis, adn I can conclude that the best method to get the highest accuracy score is using SVM with polynomial kernel."
   ]
  }
 ],
 "metadata": {
  "kernelspec": {
   "display_name": "Python 3",
   "language": "python",
   "name": "python3"
  },
  "language_info": {
   "codemirror_mode": {
    "name": "ipython",
    "version": 3
   },
   "file_extension": ".py",
   "mimetype": "text/x-python",
   "name": "python",
   "nbconvert_exporter": "python",
   "pygments_lexer": "ipython3",
   "version": "3.6.6"
  }
 },
 "nbformat": 4,
 "nbformat_minor": 2
}
